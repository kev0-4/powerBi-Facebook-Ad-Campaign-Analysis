{
 "cells": [
  {
   "cell_type": "markdown",
   "metadata": {},
   "source": [
    "### 1. Introduction\n",
    "\n",
    "The objectives of this project are as follows:\n",
    "\n",
    "1. Analyze different marketing campaigns to identify the most effective strategies in terms of ROI and lead generation.\n",
    "2. Determine the optimal allocation of the marketing budget to maximize the impact of campaigns.\n",
    "3. Provide recommendations for an optimized marketing campaign approach based on the available budget.\n",
    "\n",
    "The rest of the project will consider the following main topics:\n",
    "\n",
    "- Background\n",
    "- Data preprocessing\n",
    "- Data analysis"
   ]
  },
  {
   "cell_type": "code",
   "execution_count": 1,
   "metadata": {},
   "outputs": [],
   "source": [
    "import numpy as np\n",
    "import pandas as pd \n",
    "import seaborn as sns\n",
    "import matplotlib.pyplot as plt "
   ]
  },
  {
   "cell_type": "markdown",
   "metadata": {},
   "source": [
    "### 2. Preprocessing\n",
    "`\n",
    "The dataset is retrieved from: https://www.kaggle.com/madislemsalu/facebook-ad-campaign, describing the marketing and conversion information FaceBooks’s social media ad campaign.\n",
    "\n",
    "Overall, the data has 1143 entries and 11 columns. A brief description for each column can be given as follows:\n",
    "\n",
    "- ad_id: an unique ID for each ad.\n",
    "- campaign_id: is the ID assigned by the ad running company.\n",
    "- fb_campaign_id: is the ID assigned by facebook for every ad set.\n",
    "- age: age of the person to whom the ad is shown.\n",
    "- gender: gender of the person to whim the add is shown\n",
    "- Interest1, Interest2, Interest3 are the user interests and likes of facebook users who were taregted for the ad\n",
    "- impressions: the number of times the ad was shown.\n",
    "- clicks: number of clicks on for that ad.\n",
    "- spent: Amount paid by company xyz to Facebook, to show that ad.\n",
    "- total_conversion: is the total number of users who have clicked the ad and have made a purchase or installed an app.\n",
    "- approved_conversion: tells the total number of people who became actual active users."
   ]
  },
  {
   "cell_type": "code",
   "execution_count": 2,
   "metadata": {},
   "outputs": [
    {
     "data": {
      "text/html": [
       "<div>\n",
       "<style scoped>\n",
       "    .dataframe tbody tr th:only-of-type {\n",
       "        vertical-align: middle;\n",
       "    }\n",
       "\n",
       "    .dataframe tbody tr th {\n",
       "        vertical-align: top;\n",
       "    }\n",
       "\n",
       "    .dataframe thead th {\n",
       "        text-align: right;\n",
       "    }\n",
       "</style>\n",
       "<table border=\"1\" class=\"dataframe\">\n",
       "  <thead>\n",
       "    <tr style=\"text-align: right;\">\n",
       "      <th></th>\n",
       "      <th>ad_id</th>\n",
       "      <th>reporting_start</th>\n",
       "      <th>reporting_end</th>\n",
       "      <th>campaign_id</th>\n",
       "      <th>fb_campaign_id</th>\n",
       "      <th>age</th>\n",
       "      <th>gender</th>\n",
       "      <th>interest1</th>\n",
       "      <th>interest2</th>\n",
       "      <th>interest3</th>\n",
       "      <th>impressions</th>\n",
       "      <th>clicks</th>\n",
       "      <th>spent</th>\n",
       "      <th>total_conversion</th>\n",
       "      <th>approved_conversion</th>\n",
       "    </tr>\n",
       "  </thead>\n",
       "  <tbody>\n",
       "    <tr>\n",
       "      <th>0</th>\n",
       "      <td>708746</td>\n",
       "      <td>17/08/2017</td>\n",
       "      <td>17/08/2017</td>\n",
       "      <td>916</td>\n",
       "      <td>103916</td>\n",
       "      <td>30-34</td>\n",
       "      <td>M</td>\n",
       "      <td>15</td>\n",
       "      <td>17</td>\n",
       "      <td>17</td>\n",
       "      <td>7350.0</td>\n",
       "      <td>1</td>\n",
       "      <td>1.43</td>\n",
       "      <td>2.0</td>\n",
       "      <td>1.0</td>\n",
       "    </tr>\n",
       "    <tr>\n",
       "      <th>1</th>\n",
       "      <td>708749</td>\n",
       "      <td>17/08/2017</td>\n",
       "      <td>17/08/2017</td>\n",
       "      <td>916</td>\n",
       "      <td>103917</td>\n",
       "      <td>30-34</td>\n",
       "      <td>M</td>\n",
       "      <td>16</td>\n",
       "      <td>19</td>\n",
       "      <td>21</td>\n",
       "      <td>17861.0</td>\n",
       "      <td>2</td>\n",
       "      <td>1.82</td>\n",
       "      <td>2.0</td>\n",
       "      <td>0.0</td>\n",
       "    </tr>\n",
       "    <tr>\n",
       "      <th>2</th>\n",
       "      <td>708771</td>\n",
       "      <td>17/08/2017</td>\n",
       "      <td>17/08/2017</td>\n",
       "      <td>916</td>\n",
       "      <td>103920</td>\n",
       "      <td>30-34</td>\n",
       "      <td>M</td>\n",
       "      <td>20</td>\n",
       "      <td>25</td>\n",
       "      <td>22</td>\n",
       "      <td>693.0</td>\n",
       "      <td>0</td>\n",
       "      <td>0.00</td>\n",
       "      <td>1.0</td>\n",
       "      <td>0.0</td>\n",
       "    </tr>\n",
       "    <tr>\n",
       "      <th>3</th>\n",
       "      <td>708815</td>\n",
       "      <td>30/08/2017</td>\n",
       "      <td>30/08/2017</td>\n",
       "      <td>916</td>\n",
       "      <td>103928</td>\n",
       "      <td>30-34</td>\n",
       "      <td>M</td>\n",
       "      <td>28</td>\n",
       "      <td>32</td>\n",
       "      <td>32</td>\n",
       "      <td>4259.0</td>\n",
       "      <td>1</td>\n",
       "      <td>1.25</td>\n",
       "      <td>1.0</td>\n",
       "      <td>0.0</td>\n",
       "    </tr>\n",
       "    <tr>\n",
       "      <th>4</th>\n",
       "      <td>708818</td>\n",
       "      <td>17/08/2017</td>\n",
       "      <td>17/08/2017</td>\n",
       "      <td>916</td>\n",
       "      <td>103928</td>\n",
       "      <td>30-34</td>\n",
       "      <td>M</td>\n",
       "      <td>28</td>\n",
       "      <td>33</td>\n",
       "      <td>32</td>\n",
       "      <td>4133.0</td>\n",
       "      <td>1</td>\n",
       "      <td>1.29</td>\n",
       "      <td>1.0</td>\n",
       "      <td>1.0</td>\n",
       "    </tr>\n",
       "  </tbody>\n",
       "</table>\n",
       "</div>"
      ],
      "text/plain": [
       "    ad_id reporting_start reporting_end campaign_id fb_campaign_id    age  \\\n",
       "0  708746      17/08/2017    17/08/2017         916         103916  30-34   \n",
       "1  708749      17/08/2017    17/08/2017         916         103917  30-34   \n",
       "2  708771      17/08/2017    17/08/2017         916         103920  30-34   \n",
       "3  708815      30/08/2017    30/08/2017         916         103928  30-34   \n",
       "4  708818      17/08/2017    17/08/2017         916         103928  30-34   \n",
       "\n",
       "  gender  interest1  interest2  interest3  impressions  clicks  spent  \\\n",
       "0      M         15         17         17       7350.0       1   1.43   \n",
       "1      M         16         19         21      17861.0       2   1.82   \n",
       "2      M         20         25         22        693.0       0   0.00   \n",
       "3      M         28         32         32       4259.0       1   1.25   \n",
       "4      M         28         33         32       4133.0       1   1.29   \n",
       "\n",
       "   total_conversion  approved_conversion  \n",
       "0               2.0                  1.0  \n",
       "1               2.0                  0.0  \n",
       "2               1.0                  0.0  \n",
       "3               1.0                  0.0  \n",
       "4               1.0                  1.0  "
      ]
     },
     "execution_count": 2,
     "metadata": {},
     "output_type": "execute_result"
    }
   ],
   "source": [
    "df = pd.read_csv('data.csv')\n",
    "df.head()"
   ]
  },
  {
   "cell_type": "code",
   "execution_count": 3,
   "metadata": {},
   "outputs": [
    {
     "name": "stdout",
     "output_type": "stream",
     "text": [
      "<class 'pandas.core.frame.DataFrame'>\n",
      "RangeIndex: 1143 entries, 0 to 1142\n",
      "Data columns (total 15 columns):\n",
      " #   Column               Non-Null Count  Dtype  \n",
      "---  ------               --------------  -----  \n",
      " 0   ad_id                1143 non-null   int64  \n",
      " 1   reporting_start      1143 non-null   object \n",
      " 2   reporting_end        1143 non-null   object \n",
      " 3   campaign_id          1143 non-null   object \n",
      " 4   fb_campaign_id       1143 non-null   object \n",
      " 5   age                  1143 non-null   object \n",
      " 6   gender               1143 non-null   object \n",
      " 7   interest1            1143 non-null   int64  \n",
      " 8   interest2            1143 non-null   int64  \n",
      " 9   interest3            1143 non-null   int64  \n",
      " 10  impressions          1143 non-null   float64\n",
      " 11  clicks               1143 non-null   int64  \n",
      " 12  spent                1143 non-null   float64\n",
      " 13  total_conversion     761 non-null    float64\n",
      " 14  approved_conversion  761 non-null    float64\n",
      "dtypes: float64(4), int64(5), object(6)\n",
      "memory usage: 134.1+ KB\n"
     ]
    }
   ],
   "source": [
    "df.info()"
   ]
  },
  {
   "cell_type": "code",
   "execution_count": 4,
   "metadata": {},
   "outputs": [
    {
     "data": {
      "text/html": [
       "<div>\n",
       "<style scoped>\n",
       "    .dataframe tbody tr th:only-of-type {\n",
       "        vertical-align: middle;\n",
       "    }\n",
       "\n",
       "    .dataframe tbody tr th {\n",
       "        vertical-align: top;\n",
       "    }\n",
       "\n",
       "    .dataframe thead th {\n",
       "        text-align: right;\n",
       "    }\n",
       "</style>\n",
       "<table border=\"1\" class=\"dataframe\">\n",
       "  <thead>\n",
       "    <tr style=\"text-align: right;\">\n",
       "      <th></th>\n",
       "      <th>ad_id</th>\n",
       "      <th>interest1</th>\n",
       "      <th>interest2</th>\n",
       "      <th>interest3</th>\n",
       "      <th>impressions</th>\n",
       "      <th>clicks</th>\n",
       "      <th>spent</th>\n",
       "      <th>total_conversion</th>\n",
       "      <th>approved_conversion</th>\n",
       "    </tr>\n",
       "  </thead>\n",
       "  <tbody>\n",
       "    <tr>\n",
       "      <th>count</th>\n",
       "      <td>1.143000e+03</td>\n",
       "      <td>1143.000000</td>\n",
       "      <td>1.143000e+03</td>\n",
       "      <td>1143.000000</td>\n",
       "      <td>1.143000e+03</td>\n",
       "      <td>1143.000000</td>\n",
       "      <td>1143.000000</td>\n",
       "      <td>761.000000</td>\n",
       "      <td>761.000000</td>\n",
       "    </tr>\n",
       "    <tr>\n",
       "      <th>mean</th>\n",
       "      <td>9.872611e+05</td>\n",
       "      <td>33.884514</td>\n",
       "      <td>1.180606e+05</td>\n",
       "      <td>42.474191</td>\n",
       "      <td>6.872500e+04</td>\n",
       "      <td>11.629921</td>\n",
       "      <td>17.597760</td>\n",
       "      <td>2.161629</td>\n",
       "      <td>0.768725</td>\n",
       "    </tr>\n",
       "    <tr>\n",
       "      <th>std</th>\n",
       "      <td>1.939928e+05</td>\n",
       "      <td>27.560263</td>\n",
       "      <td>2.670506e+05</td>\n",
       "      <td>48.987248</td>\n",
       "      <td>2.067023e+05</td>\n",
       "      <td>27.347899</td>\n",
       "      <td>48.418711</td>\n",
       "      <td>4.062201</td>\n",
       "      <td>1.656445</td>\n",
       "    </tr>\n",
       "    <tr>\n",
       "      <th>min</th>\n",
       "      <td>7.087460e+05</td>\n",
       "      <td>2.000000</td>\n",
       "      <td>3.000000e+00</td>\n",
       "      <td>0.000000</td>\n",
       "      <td>0.000000e+00</td>\n",
       "      <td>0.000000</td>\n",
       "      <td>0.000000</td>\n",
       "      <td>0.000000</td>\n",
       "      <td>0.000000</td>\n",
       "    </tr>\n",
       "    <tr>\n",
       "      <th>25%</th>\n",
       "      <td>7.776325e+05</td>\n",
       "      <td>16.000000</td>\n",
       "      <td>2.200000e+01</td>\n",
       "      <td>19.000000</td>\n",
       "      <td>1.442650e+02</td>\n",
       "      <td>1.000000</td>\n",
       "      <td>0.000000</td>\n",
       "      <td>1.000000</td>\n",
       "      <td>0.000000</td>\n",
       "    </tr>\n",
       "    <tr>\n",
       "      <th>50%</th>\n",
       "      <td>1.121185e+06</td>\n",
       "      <td>26.000000</td>\n",
       "      <td>3.300000e+01</td>\n",
       "      <td>27.000000</td>\n",
       "      <td>3.142000e+03</td>\n",
       "      <td>2.000000</td>\n",
       "      <td>1.530000</td>\n",
       "      <td>1.000000</td>\n",
       "      <td>0.000000</td>\n",
       "    </tr>\n",
       "    <tr>\n",
       "      <th>75%</th>\n",
       "      <td>1.121804e+06</td>\n",
       "      <td>32.000000</td>\n",
       "      <td>9.889400e+04</td>\n",
       "      <td>38.000000</td>\n",
       "      <td>2.786400e+04</td>\n",
       "      <td>8.000000</td>\n",
       "      <td>8.540000</td>\n",
       "      <td>2.000000</td>\n",
       "      <td>1.000000</td>\n",
       "    </tr>\n",
       "    <tr>\n",
       "      <th>max</th>\n",
       "      <td>1.314415e+06</td>\n",
       "      <td>120.000000</td>\n",
       "      <td>2.286228e+06</td>\n",
       "      <td>421.000000</td>\n",
       "      <td>3.052003e+06</td>\n",
       "      <td>340.000000</td>\n",
       "      <td>639.949998</td>\n",
       "      <td>60.000000</td>\n",
       "      <td>21.000000</td>\n",
       "    </tr>\n",
       "  </tbody>\n",
       "</table>\n",
       "</div>"
      ],
      "text/plain": [
       "              ad_id    interest1     interest2    interest3   impressions  \\\n",
       "count  1.143000e+03  1143.000000  1.143000e+03  1143.000000  1.143000e+03   \n",
       "mean   9.872611e+05    33.884514  1.180606e+05    42.474191  6.872500e+04   \n",
       "std    1.939928e+05    27.560263  2.670506e+05    48.987248  2.067023e+05   \n",
       "min    7.087460e+05     2.000000  3.000000e+00     0.000000  0.000000e+00   \n",
       "25%    7.776325e+05    16.000000  2.200000e+01    19.000000  1.442650e+02   \n",
       "50%    1.121185e+06    26.000000  3.300000e+01    27.000000  3.142000e+03   \n",
       "75%    1.121804e+06    32.000000  9.889400e+04    38.000000  2.786400e+04   \n",
       "max    1.314415e+06   120.000000  2.286228e+06   421.000000  3.052003e+06   \n",
       "\n",
       "            clicks        spent  total_conversion  approved_conversion  \n",
       "count  1143.000000  1143.000000        761.000000           761.000000  \n",
       "mean     11.629921    17.597760          2.161629             0.768725  \n",
       "std      27.347899    48.418711          4.062201             1.656445  \n",
       "min       0.000000     0.000000          0.000000             0.000000  \n",
       "25%       1.000000     0.000000          1.000000             0.000000  \n",
       "50%       2.000000     1.530000          1.000000             0.000000  \n",
       "75%       8.000000     8.540000          2.000000             1.000000  \n",
       "max     340.000000   639.949998         60.000000            21.000000  "
      ]
     },
     "execution_count": 4,
     "metadata": {},
     "output_type": "execute_result"
    }
   ],
   "source": [
    "df.describe()"
   ]
  },
  {
   "cell_type": "code",
   "execution_count": 5,
   "metadata": {},
   "outputs": [
    {
     "data": {
      "text/plain": [
       "ad_id                    0\n",
       "reporting_start          0\n",
       "reporting_end            0\n",
       "campaign_id              0\n",
       "fb_campaign_id           0\n",
       "age                      0\n",
       "gender                   0\n",
       "interest1                0\n",
       "interest2                0\n",
       "interest3                0\n",
       "impressions              0\n",
       "clicks                   0\n",
       "spent                    0\n",
       "total_conversion       382\n",
       "approved_conversion    382\n",
       "dtype: int64"
      ]
     },
     "execution_count": 5,
     "metadata": {},
     "output_type": "execute_result"
    }
   ],
   "source": [
    "df.isnull().sum()"
   ]
  },
  {
   "cell_type": "markdown",
   "metadata": {},
   "source": [
    "- There are 382 null values in total conversion and approved conversion\n",
    "- since total_conversion and approved_conversion are the key features for this data and predictive analysis, remove the rows with null values in these two features."
   ]
  },
  {
   "cell_type": "code",
   "execution_count": 6,
   "metadata": {},
   "outputs": [
    {
     "data": {
      "text/plain": [
       "(761, 15)"
      ]
     },
     "execution_count": 6,
     "metadata": {},
     "output_type": "execute_result"
    }
   ],
   "source": [
    "df= df.dropna()\n",
    "df.shape"
   ]
  },
  {
   "cell_type": "code",
   "execution_count": 7,
   "metadata": {},
   "outputs": [
    {
     "name": "stdout",
     "output_type": "stream",
     "text": [
      "Are 'reporting_start' and 'reporting_end' always identical? True\n",
      "Unique 'reporting_start' values: 14\n",
      "Unique 'reporting_end' values: 14\n"
     ]
    }
   ],
   "source": [
    "same_dates = (df['reporting_start'] == df['reporting_end']).all()\n",
    "\n",
    "unique_start_dates = df['reporting_start'].nunique()\n",
    "unique_end_dates = df['reporting_end'].nunique()\n",
    "\n",
    "print(f\"Are 'reporting_start' and 'reporting_end' always identical? {same_dates}\")\n",
    "print(f\"Unique 'reporting_start' values: {unique_start_dates}\")\n",
    "print(f\"Unique 'reporting_end' values: {unique_end_dates}\")"
   ]
  },
  {
   "cell_type": "markdown",
   "metadata": {},
   "source": [
    "Observations made from current cleaning:\n",
    "\n",
    "1. Redundant Information (reporting_start and reporting_end)\n",
    "\t- Both reporting_start and reporting_end have the same values for each row, meaning the dataset captures daily snapshots of the campaign performance.\n",
    "\t- If the data is already structured in a way where each row represents a single day’s performance, keeping these columns may not add value.\n",
    "\n",
    "2. Unnecessary Identifier (fb_campaign_id)\n",
    "\t- fb_campaign_id is an identifier but does not provide useful information for analysis.\n",
    "\t- If campaign_id already uniquely identifies campaigns, then fb_campaign_id may be redundant."
   ]
  },
  {
   "cell_type": "code",
   "execution_count": 8,
   "metadata": {},
   "outputs": [],
   "source": [
    "df = df.drop(['reporting_start','reporting_end','fb_campaign_id'], axis=1)"
   ]
  },
  {
   "cell_type": "code",
   "execution_count": 9,
   "metadata": {},
   "outputs": [
    {
     "data": {
      "text/html": [
       "<div>\n",
       "<style scoped>\n",
       "    .dataframe tbody tr th:only-of-type {\n",
       "        vertical-align: middle;\n",
       "    }\n",
       "\n",
       "    .dataframe tbody tr th {\n",
       "        vertical-align: top;\n",
       "    }\n",
       "\n",
       "    .dataframe thead th {\n",
       "        text-align: right;\n",
       "    }\n",
       "</style>\n",
       "<table border=\"1\" class=\"dataframe\">\n",
       "  <thead>\n",
       "    <tr style=\"text-align: right;\">\n",
       "      <th></th>\n",
       "      <th>ad_id</th>\n",
       "      <th>campaign_id</th>\n",
       "      <th>age</th>\n",
       "      <th>gender</th>\n",
       "      <th>interest1</th>\n",
       "      <th>interest2</th>\n",
       "      <th>interest3</th>\n",
       "      <th>impressions</th>\n",
       "      <th>clicks</th>\n",
       "      <th>spent</th>\n",
       "      <th>total_conversion</th>\n",
       "      <th>approved_conversion</th>\n",
       "    </tr>\n",
       "  </thead>\n",
       "  <tbody>\n",
       "    <tr>\n",
       "      <th>0</th>\n",
       "      <td>708746</td>\n",
       "      <td>916</td>\n",
       "      <td>30-34</td>\n",
       "      <td>M</td>\n",
       "      <td>15</td>\n",
       "      <td>17</td>\n",
       "      <td>17</td>\n",
       "      <td>7350.0</td>\n",
       "      <td>1</td>\n",
       "      <td>1.43</td>\n",
       "      <td>2.0</td>\n",
       "      <td>1.0</td>\n",
       "    </tr>\n",
       "    <tr>\n",
       "      <th>1</th>\n",
       "      <td>708749</td>\n",
       "      <td>916</td>\n",
       "      <td>30-34</td>\n",
       "      <td>M</td>\n",
       "      <td>16</td>\n",
       "      <td>19</td>\n",
       "      <td>21</td>\n",
       "      <td>17861.0</td>\n",
       "      <td>2</td>\n",
       "      <td>1.82</td>\n",
       "      <td>2.0</td>\n",
       "      <td>0.0</td>\n",
       "    </tr>\n",
       "    <tr>\n",
       "      <th>2</th>\n",
       "      <td>708771</td>\n",
       "      <td>916</td>\n",
       "      <td>30-34</td>\n",
       "      <td>M</td>\n",
       "      <td>20</td>\n",
       "      <td>25</td>\n",
       "      <td>22</td>\n",
       "      <td>693.0</td>\n",
       "      <td>0</td>\n",
       "      <td>0.00</td>\n",
       "      <td>1.0</td>\n",
       "      <td>0.0</td>\n",
       "    </tr>\n",
       "    <tr>\n",
       "      <th>3</th>\n",
       "      <td>708815</td>\n",
       "      <td>916</td>\n",
       "      <td>30-34</td>\n",
       "      <td>M</td>\n",
       "      <td>28</td>\n",
       "      <td>32</td>\n",
       "      <td>32</td>\n",
       "      <td>4259.0</td>\n",
       "      <td>1</td>\n",
       "      <td>1.25</td>\n",
       "      <td>1.0</td>\n",
       "      <td>0.0</td>\n",
       "    </tr>\n",
       "    <tr>\n",
       "      <th>4</th>\n",
       "      <td>708818</td>\n",
       "      <td>916</td>\n",
       "      <td>30-34</td>\n",
       "      <td>M</td>\n",
       "      <td>28</td>\n",
       "      <td>33</td>\n",
       "      <td>32</td>\n",
       "      <td>4133.0</td>\n",
       "      <td>1</td>\n",
       "      <td>1.29</td>\n",
       "      <td>1.0</td>\n",
       "      <td>1.0</td>\n",
       "    </tr>\n",
       "  </tbody>\n",
       "</table>\n",
       "</div>"
      ],
      "text/plain": [
       "    ad_id campaign_id    age gender  interest1  interest2  interest3  \\\n",
       "0  708746         916  30-34      M         15         17         17   \n",
       "1  708749         916  30-34      M         16         19         21   \n",
       "2  708771         916  30-34      M         20         25         22   \n",
       "3  708815         916  30-34      M         28         32         32   \n",
       "4  708818         916  30-34      M         28         33         32   \n",
       "\n",
       "   impressions  clicks  spent  total_conversion  approved_conversion  \n",
       "0       7350.0       1   1.43               2.0                  1.0  \n",
       "1      17861.0       2   1.82               2.0                  0.0  \n",
       "2        693.0       0   0.00               1.0                  0.0  \n",
       "3       4259.0       1   1.25               1.0                  0.0  \n",
       "4       4133.0       1   1.29               1.0                  1.0  "
      ]
     },
     "execution_count": 9,
     "metadata": {},
     "output_type": "execute_result"
    }
   ],
   "source": [
    "df.head()"
   ]
  },
  {
   "cell_type": "code",
   "execution_count": 10,
   "metadata": {},
   "outputs": [
    {
     "name": "stdout",
     "output_type": "stream",
     "text": [
      "Cleaned dataset saved as 'cleaned_data.csv'.\n"
     ]
    }
   ],
   "source": [
    "df.to_csv('cleaned_data.csv', index=False)\n",
    "print(\"Cleaned dataset saved as 'cleaned_data.csv'.\")"
   ]
  },
  {
   "cell_type": "markdown",
   "metadata": {},
   "source": [
    "### 3. Exploratory Data Analysis"
   ]
  },
  {
   "cell_type": "code",
   "execution_count": 11,
   "metadata": {},
   "outputs": [],
   "source": [
    "sns.set_style(\"darkgrid\")"
   ]
  },
  {
   "cell_type": "code",
   "execution_count": 12,
   "metadata": {},
   "outputs": [
    {
     "data": {
      "text/plain": [
       "age\n",
       "30-34    327\n",
       "35-39    180\n",
       "40-44    139\n",
       "45-49    115\n",
       "Name: count, dtype: int64"
      ]
     },
     "execution_count": 12,
     "metadata": {},
     "output_type": "execute_result"
    }
   ],
   "source": [
    "df.age.value_counts()"
   ]
  },
  {
   "cell_type": "markdown",
   "metadata": {},
   "source": [
    "1. **Count Plot** - Count By Age Groups"
   ]
  },
  {
   "cell_type": "code",
   "execution_count": 13,
   "metadata": {},
   "outputs": [
    {
     "data": {
      "text/plain": [
       "<Axes: xlabel='count', ylabel='age'>"
      ]
     },
     "execution_count": 13,
     "metadata": {},
     "output_type": "execute_result"
    },
    {
     "data": {
      "image/png": "[encoded data removed]",
      "text/plain": [
       "<Figure size 640x480 with 1 Axes>"
      ]
     },
     "metadata": {},
     "output_type": "display_data"
    }
   ],
   "source": [
    "sns.countplot(df.age)"
   ]
  },
  {
   "cell_type": "markdown",
   "metadata": {},
   "source": [
    "2. **Bar Plot** - Average Clicks per Age Group"
   ]
  },
  {
   "cell_type": "code",
   "execution_count": 14,
   "metadata": {},
   "outputs": [
    {
     "name": "stderr",
     "output_type": "stream",
     "text": [
      "C:\\Users\\lemon\\AppData\\Local\\Temp\\ipykernel_25392\\2834877302.py:2: FutureWarning: \n",
      "\n",
      "The `ci` parameter is deprecated. Use `errorbar=None` for the same effect.\n",
      "\n",
      "  sns.barplot(x=df['age'], y=df['clicks'], estimator=sum, ci=None, palette='Blues')\n",
      "C:\\Users\\lemon\\AppData\\Local\\Temp\\ipykernel_25392\\2834877302.py:2: FutureWarning: \n",
      "\n",
      "Passing `palette` without assigning `hue` is deprecated and will be removed in v0.14.0. Assign the `x` variable to `hue` and set `legend=False` for the same effect.\n",
      "\n",
      "  sns.barplot(x=df['age'], y=df['clicks'], estimator=sum, ci=None, palette='Blues')\n"
     ]
    },
    {
     "data": {
      "image/png": "[encoded data removed]",
      "text/plain": [
       "<Figure size 700x400 with 1 Axes>"
      ]
     },
     "metadata": {},
     "output_type": "display_data"
    }
   ],
   "source": [
    "plt.figure(figsize=(7, 4))\n",
    "sns.barplot(x=df['age'], y=df['clicks'], estimator=sum, ci=None, palette='Blues')\n",
    "plt.title(\"Total Clicks by Age Group\")\n",
    "plt.xlabel(\"Age Group\")\n",
    "plt.ylabel(\"Total Clicks\")\n",
    "plt.show()"
   ]
  },
  {
   "cell_type": "markdown",
   "metadata": {},
   "source": [
    "3. **Histogram** - Distribution of Impressions\n"
   ]
  },
  {
   "cell_type": "code",
   "execution_count": 15,
   "metadata": {},
   "outputs": [
    {
     "data": {
      "image/png": "[encoded data removed]",
      "text/plain": [
       "<Figure size 700x400 with 1 Axes>"
      ]
     },
     "metadata": {},
     "output_type": "display_data"
    }
   ],
   "source": [
    "plt.figure(figsize=(7, 4))\n",
    "sns.histplot(df['impressions'], bins=30, kde=True, color='green')\n",
    "plt.title(\"Distribution of Impressions\")\n",
    "plt.xlabel(\"Impressions\")\n",
    "plt.ylabel(\"Frequency\")\n",
    "plt.show()"
   ]
  },
  {
   "cell_type": "markdown",
   "metadata": {},
   "source": [
    "1. Highly Right-Skewed Distribution\n",
    "\t- Most ads receive very low impressions, clustered on the left side.\n",
    "\t- A few ads have very high impressions, forming a long tail extending to the right.\n",
    "2. Outliers Present\n",
    "\t- Some ads might be getting millions of impressions, but they are rare.\n",
    "\t- The majority of ads seem to get impressions in a much lower range.\n",
    "3. Potential Power Law Distribution\n",
    "\t- This pattern suggests a small number of high-performing ads dominate impressions, while most ads get minimal visibility.\n",
    "\t- A common trend in digital advertising, where a few campaigns outperform the rest."
   ]
  },
  {
   "cell_type": "markdown",
   "metadata": {},
   "source": [
    "3.1. **Box Plot** - Distribution of Impressions"
   ]
  },
  {
   "cell_type": "code",
   "execution_count": 16,
   "metadata": {},
   "outputs": [
    {
     "data": {
      "image/png": "[encoded data removed]",
      "text/plain": [
       "<Figure size 700x400 with 1 Axes>"
      ]
     },
     "metadata": {},
     "output_type": "display_data"
    }
   ],
   "source": [
    "plt.figure(figsize=(7, 4))\n",
    "sns.boxplot(x=df['impressions'], color=\"orange\")\n",
    "plt.title(\"Box Plot of Impressions\")\n",
    "plt.xlabel(\"Impressions\")\n",
    "plt.show()"
   ]
  },
  {
   "cell_type": "markdown",
   "metadata": {},
   "source": [
    "- The box is very small and squeezed to the left, meaning most ads get very low impressions.\n",
    "- The long right whisker and many outliers confirm that a few ads receive extremely high impressions."
   ]
  },
  {
   "cell_type": "markdown",
   "metadata": {},
   "source": [
    "4. **KDE Plot** - Spent Amount Distribution"
   ]
  },
  {
   "cell_type": "code",
   "execution_count": 17,
   "metadata": {},
   "outputs": [
    {
     "data": {
      "image/png": "[encoded data removed]",
      "text/plain": [
       "<Figure size 700x400 with 1 Axes>"
      ]
     },
     "metadata": {},
     "output_type": "display_data"
    }
   ],
   "source": [
    "plt.figure(figsize=(7, 4))\n",
    "sns.kdeplot(df['spent'], fill=True, color='red')\n",
    "plt.title(\"KDE Plot of Ad Spend\")\n",
    "plt.xlabel(\"Spent Amount\")\n",
    "plt.show()"
   ]
  },
  {
   "cell_type": "markdown",
   "metadata": {},
   "source": [
    "5. **Pie Chart** - Gender Distribution"
   ]
  },
  {
   "cell_type": "code",
   "execution_count": 18,
   "metadata": {},
   "outputs": [
    {
     "data": {
      "image/png": "[encoded data removed]",
      "text/plain": [
       "<Figure size 400x400 with 1 Axes>"
      ]
     },
     "metadata": {},
     "output_type": "display_data"
    }
   ],
   "source": [
    "plt.figure(figsize=(4, 4))\n",
    "df['gender'].value_counts().plot.pie(autopct='%1.1f%%', colors=['lightblue', 'pink'])\n",
    "plt.title(\"Gender Distribution\")\n",
    "plt.ylabel(\"\")\n",
    "plt.show()"
   ]
  },
  {
   "cell_type": "markdown",
   "metadata": {},
   "source": [
    "6. **Stacked Bar Chart** - Occurrences of gender within each age group"
   ]
  },
  {
   "cell_type": "code",
   "execution_count": 19,
   "metadata": {},
   "outputs": [
    {
     "data": {
      "image/png": "[encoded data removed]",
      "text/plain": [
       "<Figure size 700x400 with 1 Axes>"
      ]
     },
     "metadata": {},
     "output_type": "display_data"
    }
   ],
   "source": [
    "gender_age_counts = df.groupby(['age', 'gender']).size().unstack()\n",
    "\n",
    "gender_age_counts.plot(kind='bar', stacked=True, figsize=(7, 4), color=['pink', 'lightblue'])\n",
    "\n",
    "plt.title(\"Gender Distribution by Age Group\")\n",
    "plt.xlabel(\"Age Group\")\n",
    "plt.ylabel(\"Count\")\n",
    "plt.legend(title=\"Gender\", labels=[\"Female\", \"Male\"])\n",
    "plt.show()"
   ]
  },
  {
   "cell_type": "markdown",
   "metadata": {},
   "source": [
    "7. **Scatter Plot** - Impressions vs. Clicks"
   ]
  },
  {
   "cell_type": "code",
   "execution_count": 20,
   "metadata": {},
   "outputs": [
    {
     "data": {
      "image/png": "[encoded data removed]",
      "text/plain": [
       "<Figure size 700x400 with 1 Axes>"
      ]
     },
     "metadata": {},
     "output_type": "display_data"
    }
   ],
   "source": [
    "plt.figure(figsize=(7, 4))\n",
    "sns.scatterplot(x=df['impressions'], y=df['clicks'], alpha=0.5, color=\"blue\")\n",
    "plt.title(\"Scatter Plot: Impressions vs Clicks\")\n",
    "plt.xlabel(\"Impressions\")\n",
    "plt.ylabel(\"Clicks\")\n",
    "plt.show()"
   ]
  },
  {
   "cell_type": "markdown",
   "metadata": {},
   "source": [
    "Positive Correlation:\n",
    " - As impressions increase, clicks also increase.\n",
    " - This suggests that ads shown more frequently tend to receive more clicks, which is expected in digital advertising."
   ]
  },
  {
   "cell_type": "markdown",
   "metadata": {},
   "source": [
    "8. **Correlation Heatmap** - Correlation Among Attributes"
   ]
  },
  {
   "cell_type": "code",
   "execution_count": 21,
   "metadata": {},
   "outputs": [
    {
     "data": {
      "image/png": "[encoded data removed]",
      "text/plain": [
       "<Figure size 800x600 with 2 Axes>"
      ]
     },
     "metadata": {},
     "output_type": "display_data"
    }
   ],
   "source": [
    "numeric_df = df.select_dtypes(include=['int64', 'float64'])\n",
    "\n",
    "plt.figure(figsize=(8, 6))\n",
    "sns.heatmap(numeric_df.corr(), annot=True, cmap=\"coolwarm\", fmt=\".2f\", linewidths=0.5)\n",
    "plt.title(\"Correlation Heatmap of Facebook Ad Campaign Data\")\n",
    "plt.show()"
   ]
  },
  {
   "cell_type": "markdown",
   "metadata": {},
   "source": [
    "1. Strong Positive Correlations (Close to +1)\n",
    "    - impressions ↔ clicks (0.97):\n",
    "        - More impressions almost always lead to more clicks.\n",
    "\t    - Indicates that visibility is a key driver for engagement.\n",
    "\t- impressions ↔ spent (0.98)\n",
    "\t    - More spending directly increases impressions, suggesting a pay-to-reach model.\n",
    "\t- clicks ↔ total_conversion (0.81)\n",
    "\t    - More clicks tend to result in more conversions, meaning ads that get more engagement are more likely to convert.\n",
    "\t- total_conversion ↔ approved_conversion (0.88)\n",
    "\t    - Most conversions are approved"
   ]
  },
  {
   "cell_type": "markdown",
   "metadata": {},
   "source": [
    "### 4. Statistical Data Analysis"
   ]
  },
  {
   "cell_type": "markdown",
   "metadata": {},
   "source": [
    "**CTR (Click-Through Rate)**:\n",
    "\n",
    "CTR measures the percentage of users who clicked on an ad after seeing it.\n",
    "\n",
    "$$\n",
    "CTR (\\%) = \\left(\\frac{\\text{Clicks}}{\\text{Impressions}}\\right) \\times 100\n",
    "$$\n",
    "\n",
    "- **Clicks** = Number of times the ad was clicked  \n",
    "- **Impressions** = Number of times the ad was shown  \n",
    "\n",
    "\n",
    "**CPC (Cost Per Click)**:\n",
    "\n",
    "The CPC formula calculates the cost of each click:\n",
    "\n",
    "$$\n",
    "CPC = \\frac{\\text{Spent}}{\\text{Clicks}}\n",
    "$$"
   ]
  },
  {
   "cell_type": "code",
   "execution_count": 22,
   "metadata": {},
   "outputs": [
    {
     "name": "stdout",
     "output_type": "stream",
     "text": [
      "          CTR (%)     CPC ($)\n",
      "count  761.000000  558.000000\n",
      "mean     0.015444    1.503770\n",
      "std      0.013318    0.284427\n",
      "min      0.000000    0.180000\n",
      "25%      0.000000    1.362976\n",
      "50%      0.014513    1.540000\n",
      "75%      0.023480    1.702216\n",
      "max      0.105932    2.212000\n"
     ]
    }
   ],
   "source": [
    "df['CTR (%)'] = (df['clicks'] / df['impressions']) * 100\n",
    "df['CPC ($)'] = df['spent'] / df['clicks']\n",
    "\n",
    "print(df[['CTR (%)', 'CPC ($)']].describe())"
   ]
  },
  {
   "cell_type": "markdown",
   "metadata": {},
   "source": [
    "### **CTR & CPC Analysis: Actionable Insights**\n",
    "\n",
    "**1. Low Mean CTR (1.54%) Indicates Engagement Challenges**\n",
    "- The average Click-Through Rate (CTR) is **1.54%**, which is relatively low.\n",
    "- **50% of ads** have a CTR **below 1.45%**, indicating that engagement levels are suboptimal.\n",
    "- **25% of ads have a CTR of 0%**, meaning they failed to generate any interaction.\n",
    "\n",
    "**Strategic Recommendations:**\n",
    "- **Refine audience segmentation**: Utilize granular targeting (age, gender, behavioral data) to improve ad relevance.\n",
    "- **A/B Test ad creatives**: Experiment with different ad formats, copy variations, and visual elements.\n",
    "- **Enhance Call-To-Action (CTA) strategies**: Use compelling 'Call To Actions' such as *“Claim Offer”* or *“Learn More”* to drive interaction.\n",
    "- **Optimize ad placement strategies**: Test Facebook feed vs. Instagram Stories to identify high-engagement channels.\n",
    "\n",
    "\n",
    "\n",
    "**2. CPC Variability Suggests Optimization Opportunities**\n",
    "- Mean **Cost Per Click (CPC)** is **$1.50**, which is within an acceptable range.\n",
    "- CPC varies significantly:\n",
    "  - **Minimum CPC: $0.18 → Some campaigns achieve highly cost-effective clicks.**\n",
    "  - **Maximum CPC: $2.21 → Certain ads have inefficient cost structures.**\n",
    "  - **Standard Deviation: $0.28 → Moderate dispersion in CPC values.**\n",
    "\n",
    "**Strategic Recommendations:**\n",
    "- **Budget reallocation**: Shift ad spend from high-CPC campaigns to more cost-efficient ones.\n",
    "- **Leverage cost-effective targeting**: Analyze and scale low-CPC campaigns for optimal performance.\n",
    "- **Adjust bidding strategies**: Reduce bid amounts for high-CPC campaigns to maximize Return on Ad Spend (ROAS).\n",
    "\n",
    "\n",
    "\n",
    "**3. Zero-CTR Ads Are Wasting Ad Spend**\n",
    "- **25% of ads have a CTR of 0%**, indicating **poor engagement and wasted impressions.**\n",
    "- These ads may suffer from **irrelevant targeting, weak creative appeal, or poor positioning**.\n",
    "\n",
    "**Strategic Recommendations:**\n",
    "- **Pause underperforming campaigns**: Remove ads with no engagement to optimize budget efficiency.\n",
    "- **Perform diagnostic analysis**: Identify common characteristics in low-CTR ads (demographics, interests, ad format).\n",
    "- **Conduct audience intent testing**: Use A/B testing to validate targeting hypotheses.\n",
    "\n",
    "\n",
    "\n",
    "**4. High CTR Variability Highlights Top-Performing Ads**\n",
    "- **Max CTR = 10.59%**, which is **7× higher than the mean**, indicating some ads are highly effective.\n",
    "- A **significant performance gap** exists between top and bottom-performing ads.\n",
    "\n",
    "**Strategic Recommendations:**\n",
    "- **Expand top-performing campaigns**: Increase ad spend on ads with high CTR and low CPC.\n",
    "- **Develop predictive modeling**: Use Machine Learning (ML) or regression analysis to predict CTR performance based on ad characteristics.\n"
   ]
  },
  {
   "cell_type": "code",
   "execution_count": 23,
   "metadata": {},
   "outputs": [
    {
     "data": {
      "text/html": [
       "<div>\n",
       "<style scoped>\n",
       "    .dataframe tbody tr th:only-of-type {\n",
       "        vertical-align: middle;\n",
       "    }\n",
       "\n",
       "    .dataframe tbody tr th {\n",
       "        vertical-align: top;\n",
       "    }\n",
       "\n",
       "    .dataframe thead th {\n",
       "        text-align: right;\n",
       "    }\n",
       "</style>\n",
       "<table border=\"1\" class=\"dataframe\">\n",
       "  <thead>\n",
       "    <tr style=\"text-align: right;\">\n",
       "      <th></th>\n",
       "      <th>ad_id</th>\n",
       "      <th>campaign_id</th>\n",
       "      <th>age</th>\n",
       "      <th>gender</th>\n",
       "      <th>interest1</th>\n",
       "      <th>interest2</th>\n",
       "      <th>interest3</th>\n",
       "      <th>impressions</th>\n",
       "      <th>clicks</th>\n",
       "      <th>spent</th>\n",
       "      <th>total_conversion</th>\n",
       "      <th>approved_conversion</th>\n",
       "      <th>CTR (%)</th>\n",
       "      <th>CPC ($)</th>\n",
       "    </tr>\n",
       "  </thead>\n",
       "  <tbody>\n",
       "    <tr>\n",
       "      <th>0</th>\n",
       "      <td>708746</td>\n",
       "      <td>916</td>\n",
       "      <td>30-34</td>\n",
       "      <td>M</td>\n",
       "      <td>15</td>\n",
       "      <td>17</td>\n",
       "      <td>17</td>\n",
       "      <td>7350.0</td>\n",
       "      <td>1</td>\n",
       "      <td>1.43</td>\n",
       "      <td>2.0</td>\n",
       "      <td>1.0</td>\n",
       "      <td>0.013605</td>\n",
       "      <td>1.43</td>\n",
       "    </tr>\n",
       "    <tr>\n",
       "      <th>1</th>\n",
       "      <td>708749</td>\n",
       "      <td>916</td>\n",
       "      <td>30-34</td>\n",
       "      <td>M</td>\n",
       "      <td>16</td>\n",
       "      <td>19</td>\n",
       "      <td>21</td>\n",
       "      <td>17861.0</td>\n",
       "      <td>2</td>\n",
       "      <td>1.82</td>\n",
       "      <td>2.0</td>\n",
       "      <td>0.0</td>\n",
       "      <td>0.011198</td>\n",
       "      <td>0.91</td>\n",
       "    </tr>\n",
       "    <tr>\n",
       "      <th>2</th>\n",
       "      <td>708771</td>\n",
       "      <td>916</td>\n",
       "      <td>30-34</td>\n",
       "      <td>M</td>\n",
       "      <td>20</td>\n",
       "      <td>25</td>\n",
       "      <td>22</td>\n",
       "      <td>693.0</td>\n",
       "      <td>0</td>\n",
       "      <td>0.00</td>\n",
       "      <td>1.0</td>\n",
       "      <td>0.0</td>\n",
       "      <td>0.000000</td>\n",
       "      <td>NaN</td>\n",
       "    </tr>\n",
       "    <tr>\n",
       "      <th>3</th>\n",
       "      <td>708815</td>\n",
       "      <td>916</td>\n",
       "      <td>30-34</td>\n",
       "      <td>M</td>\n",
       "      <td>28</td>\n",
       "      <td>32</td>\n",
       "      <td>32</td>\n",
       "      <td>4259.0</td>\n",
       "      <td>1</td>\n",
       "      <td>1.25</td>\n",
       "      <td>1.0</td>\n",
       "      <td>0.0</td>\n",
       "      <td>0.023480</td>\n",
       "      <td>1.25</td>\n",
       "    </tr>\n",
       "    <tr>\n",
       "      <th>4</th>\n",
       "      <td>708818</td>\n",
       "      <td>916</td>\n",
       "      <td>30-34</td>\n",
       "      <td>M</td>\n",
       "      <td>28</td>\n",
       "      <td>33</td>\n",
       "      <td>32</td>\n",
       "      <td>4133.0</td>\n",
       "      <td>1</td>\n",
       "      <td>1.29</td>\n",
       "      <td>1.0</td>\n",
       "      <td>1.0</td>\n",
       "      <td>0.024195</td>\n",
       "      <td>1.29</td>\n",
       "    </tr>\n",
       "  </tbody>\n",
       "</table>\n",
       "</div>"
      ],
      "text/plain": [
       "    ad_id campaign_id    age gender  interest1  interest2  interest3  \\\n",
       "0  708746         916  30-34      M         15         17         17   \n",
       "1  708749         916  30-34      M         16         19         21   \n",
       "2  708771         916  30-34      M         20         25         22   \n",
       "3  708815         916  30-34      M         28         32         32   \n",
       "4  708818         916  30-34      M         28         33         32   \n",
       "\n",
       "   impressions  clicks  spent  total_conversion  approved_conversion  \\\n",
       "0       7350.0       1   1.43               2.0                  1.0   \n",
       "1      17861.0       2   1.82               2.0                  0.0   \n",
       "2        693.0       0   0.00               1.0                  0.0   \n",
       "3       4259.0       1   1.25               1.0                  0.0   \n",
       "4       4133.0       1   1.29               1.0                  1.0   \n",
       "\n",
       "    CTR (%)  CPC ($)  \n",
       "0  0.013605     1.43  \n",
       "1  0.011198     0.91  \n",
       "2  0.000000      NaN  \n",
       "3  0.023480     1.25  \n",
       "4  0.024195     1.29  "
      ]
     },
     "execution_count": 23,
     "metadata": {},
     "output_type": "execute_result"
    }
   ],
   "source": [
    "df.head()"
   ]
  },
  {
   "cell_type": "markdown",
   "metadata": {},
   "source": [
    "CPC has NaN values as a result of dividing by zero"
   ]
  },
  {
   "cell_type": "code",
   "execution_count": 24,
   "metadata": {},
   "outputs": [],
   "source": [
    "df['CPC ($)'] = df['CPC ($)'].fillna(0)"
   ]
  },
  {
   "cell_type": "code",
   "execution_count": 25,
   "metadata": {},
   "outputs": [
    {
     "data": {
      "text/html": [
       "<div>\n",
       "<style scoped>\n",
       "    .dataframe tbody tr th:only-of-type {\n",
       "        vertical-align: middle;\n",
       "    }\n",
       "\n",
       "    .dataframe tbody tr th {\n",
       "        vertical-align: top;\n",
       "    }\n",
       "\n",
       "    .dataframe thead th {\n",
       "        text-align: right;\n",
       "    }\n",
       "</style>\n",
       "<table border=\"1\" class=\"dataframe\">\n",
       "  <thead>\n",
       "    <tr style=\"text-align: right;\">\n",
       "      <th></th>\n",
       "      <th>ad_id</th>\n",
       "      <th>campaign_id</th>\n",
       "      <th>age</th>\n",
       "      <th>gender</th>\n",
       "      <th>interest1</th>\n",
       "      <th>interest2</th>\n",
       "      <th>interest3</th>\n",
       "      <th>impressions</th>\n",
       "      <th>clicks</th>\n",
       "      <th>spent</th>\n",
       "      <th>total_conversion</th>\n",
       "      <th>approved_conversion</th>\n",
       "      <th>CTR (%)</th>\n",
       "      <th>CPC ($)</th>\n",
       "    </tr>\n",
       "  </thead>\n",
       "  <tbody>\n",
       "    <tr>\n",
       "      <th>0</th>\n",
       "      <td>708746</td>\n",
       "      <td>916</td>\n",
       "      <td>30-34</td>\n",
       "      <td>M</td>\n",
       "      <td>15</td>\n",
       "      <td>17</td>\n",
       "      <td>17</td>\n",
       "      <td>7350.0</td>\n",
       "      <td>1</td>\n",
       "      <td>1.43</td>\n",
       "      <td>2.0</td>\n",
       "      <td>1.0</td>\n",
       "      <td>0.013605</td>\n",
       "      <td>1.43</td>\n",
       "    </tr>\n",
       "    <tr>\n",
       "      <th>1</th>\n",
       "      <td>708749</td>\n",
       "      <td>916</td>\n",
       "      <td>30-34</td>\n",
       "      <td>M</td>\n",
       "      <td>16</td>\n",
       "      <td>19</td>\n",
       "      <td>21</td>\n",
       "      <td>17861.0</td>\n",
       "      <td>2</td>\n",
       "      <td>1.82</td>\n",
       "      <td>2.0</td>\n",
       "      <td>0.0</td>\n",
       "      <td>0.011198</td>\n",
       "      <td>0.91</td>\n",
       "    </tr>\n",
       "    <tr>\n",
       "      <th>2</th>\n",
       "      <td>708771</td>\n",
       "      <td>916</td>\n",
       "      <td>30-34</td>\n",
       "      <td>M</td>\n",
       "      <td>20</td>\n",
       "      <td>25</td>\n",
       "      <td>22</td>\n",
       "      <td>693.0</td>\n",
       "      <td>0</td>\n",
       "      <td>0.00</td>\n",
       "      <td>1.0</td>\n",
       "      <td>0.0</td>\n",
       "      <td>0.000000</td>\n",
       "      <td>0.00</td>\n",
       "    </tr>\n",
       "    <tr>\n",
       "      <th>3</th>\n",
       "      <td>708815</td>\n",
       "      <td>916</td>\n",
       "      <td>30-34</td>\n",
       "      <td>M</td>\n",
       "      <td>28</td>\n",
       "      <td>32</td>\n",
       "      <td>32</td>\n",
       "      <td>4259.0</td>\n",
       "      <td>1</td>\n",
       "      <td>1.25</td>\n",
       "      <td>1.0</td>\n",
       "      <td>0.0</td>\n",
       "      <td>0.023480</td>\n",
       "      <td>1.25</td>\n",
       "    </tr>\n",
       "    <tr>\n",
       "      <th>4</th>\n",
       "      <td>708818</td>\n",
       "      <td>916</td>\n",
       "      <td>30-34</td>\n",
       "      <td>M</td>\n",
       "      <td>28</td>\n",
       "      <td>33</td>\n",
       "      <td>32</td>\n",
       "      <td>4133.0</td>\n",
       "      <td>1</td>\n",
       "      <td>1.29</td>\n",
       "      <td>1.0</td>\n",
       "      <td>1.0</td>\n",
       "      <td>0.024195</td>\n",
       "      <td>1.29</td>\n",
       "    </tr>\n",
       "  </tbody>\n",
       "</table>\n",
       "</div>"
      ],
      "text/plain": [
       "    ad_id campaign_id    age gender  interest1  interest2  interest3  \\\n",
       "0  708746         916  30-34      M         15         17         17   \n",
       "1  708749         916  30-34      M         16         19         21   \n",
       "2  708771         916  30-34      M         20         25         22   \n",
       "3  708815         916  30-34      M         28         32         32   \n",
       "4  708818         916  30-34      M         28         33         32   \n",
       "\n",
       "   impressions  clicks  spent  total_conversion  approved_conversion  \\\n",
       "0       7350.0       1   1.43               2.0                  1.0   \n",
       "1      17861.0       2   1.82               2.0                  0.0   \n",
       "2        693.0       0   0.00               1.0                  0.0   \n",
       "3       4259.0       1   1.25               1.0                  0.0   \n",
       "4       4133.0       1   1.29               1.0                  1.0   \n",
       "\n",
       "    CTR (%)  CPC ($)  \n",
       "0  0.013605     1.43  \n",
       "1  0.011198     0.91  \n",
       "2  0.000000     0.00  \n",
       "3  0.023480     1.25  \n",
       "4  0.024195     1.29  "
      ]
     },
     "execution_count": 25,
     "metadata": {},
     "output_type": "execute_result"
    }
   ],
   "source": [
    "df.head()"
   ]
  },
  {
   "cell_type": "markdown",
   "metadata": {},
   "source": [
    "**Cost Analysis**:"
   ]
  },
  {
   "cell_type": "code",
   "execution_count": 26,
   "metadata": {},
   "outputs": [
    {
     "name": "stdout",
     "output_type": "stream",
     "text": [
      "Campaign wise clicks\n",
      "campaign_id\n",
      "1178    9577\n",
      "916      113\n",
      "936     1984\n",
      "Name: clicks, dtype: int64\n",
      "-------------------------\n",
      "Campaign wise amount spent\n",
      "campaign_id\n",
      "1178    16577.159998\n",
      "916       149.710001\n",
      "936      2893.369999\n",
      "Name: spent, dtype: float64\n",
      "--------------------------\n",
      "Campaign wise total conversions\n",
      "campaign_id\n",
      "1178    1050.0\n",
      "916       58.0\n",
      "936      537.0\n",
      "Name: total_conversion, dtype: float64\n",
      "---------------------------\n",
      "Campaign wise ad count\n",
      "campaign_id\n",
      "1178    243\n",
      "916      54\n",
      "936     464\n",
      "Name: ad_id, dtype: int64\n",
      "===========================\n"
     ]
    }
   ],
   "source": [
    "print('Campaign wise clicks')\n",
    "print((df.groupby(['campaign_id'])).clicks.sum())\n",
    "print('-------------------------')\n",
    "\n",
    "print('Campaign wise amount spent')\n",
    "print((df.groupby(['campaign_id'])).spent.sum())\n",
    "print('--------------------------')\n",
    "\n",
    "\n",
    "print('Campaign wise total conversions')\n",
    "print((df.groupby(['campaign_id'])).total_conversion.sum())\n",
    "print('---------------------------')\n",
    "\n",
    "print('Campaign wise ad count')\n",
    "print((df.groupby(['campaign_id'])).ad_id.count())\n",
    "print('===========================')"
   ]
  },
  {
   "cell_type": "code",
   "execution_count": 27,
   "metadata": {},
   "outputs": [
    {
     "name": "stdout",
     "output_type": "stream",
     "text": [
      "Cost Per Click of campaign_1178 is 1.7309345304375063\n",
      "Cost Per Conversion of campaign_1178 is 15.787771426666666\n",
      "Cost Per Ad in campaign_1178 is 68.2187654238683\n",
      "---------------------------------------------------------------\n",
      "Cost Per Click of campaign_936 is 1.4583518140120968\n",
      "Cost Per Conversion of campaign_936 is 5.388026068901303\n",
      "Cost Per Ad in campaign_936 is 6.23571120474138\n",
      "---------------------------------------------------------------\n",
      "Cost Per Click of campaign_916 is 1.3248672654867257\n",
      "Cost Per Conversion of campaign_916 is 2.5812069137931037\n",
      "Cost Per Ad in campaign_916 is 2.772407425925926\n",
      "---------------------------------------------------------------\n"
     ]
    }
   ],
   "source": [
    "campaign_1178_clicks = 9577\n",
    "campaign_1178_cost = 16577.159998\n",
    "campaign_1178_conv = 1050\n",
    "campaign_1178_adcount = 243\n",
    "campaign_1178_cpc = (campaign_1178_cost/campaign_1178_clicks)\n",
    "campaign_1178_cpco = (campaign_1178_cost/campaign_1178_conv)\n",
    "campaign_1178_cpad = (campaign_1178_cost/campaign_1178_adcount)\n",
    "\n",
    "print('Cost Per Click of campaign_1178 is '+ str(campaign_1178_cpc))\n",
    "print('Cost Per Conversion of campaign_1178 is '+ str(campaign_1178_cpco))\n",
    "print('Cost Per Ad in campaign_1178 is '+ str(campaign_1178_cpad))\n",
    "print('---------------------------------------------------------------')\n",
    "\n",
    "\n",
    "campaign_936_clicks = 1984\n",
    "campaign_936_cost = 2893.369999\n",
    "campaign_936_conv = 537\n",
    "campaign_936_adcount = 464\n",
    "campaign_936_cpc = (campaign_936_cost/campaign_936_clicks)\n",
    "campaign_936_cpco = (campaign_936_cost/campaign_936_conv)\n",
    "campaign_936_cpad = (campaign_936_cost/campaign_936_adcount)\n",
    "\n",
    "print('Cost Per Click of campaign_936 is '+ str(campaign_936_cpc))\n",
    "print('Cost Per Conversion of campaign_936 is '+ str(campaign_936_cpco))\n",
    "print('Cost Per Ad in campaign_936 is '+ str(campaign_936_cpad))\n",
    "print('---------------------------------------------------------------')\n",
    "\n",
    "campaign_916_clicks = 113\n",
    "campaign_916_cost = 149.710001\n",
    "campaign_916_conv = 58\n",
    "campaign_916_adcount = 54\n",
    "campaign_916_cpc = (campaign_916_cost/campaign_916_clicks)\n",
    "campaign_916_cpco = (campaign_916_cost/campaign_916_conv)\n",
    "campaign_916_cpad = (campaign_916_cost/campaign_916_adcount)\n",
    "\n",
    "print('Cost Per Click of campaign_916 is '+ str(campaign_916_cpc))\n",
    "print('Cost Per Conversion of campaign_916 is '+ str(campaign_916_cpco))\n",
    "print('Cost Per Ad in campaign_916 is '+ str(campaign_916_cpad))\n",
    "print('---------------------------------------------------------------')"
   ]
  },
  {
   "cell_type": "markdown",
   "metadata": {},
   "source": [
    "- From the above analysis it is very clear that campaign 916 is the most efficient and profitable campaign.\n",
    "- The cpc and cost per conversion is very low compared other campaigns.\n",
    "- If FaceBook scales up the campaign 916 to the budget of campaign 1178, they might drive 5 times more results of campaign 1178"
   ]
  },
  {
   "cell_type": "markdown",
   "metadata": {},
   "source": [
    "### 5. Modeling & Evaluation\n",
    "\n"
   ]
  },
  {
   "cell_type": "code",
   "execution_count": 28,
   "metadata": {},
   "outputs": [],
   "source": [
    "from sklearn.model_selection import train_test_split\n",
    "from sklearn.linear_model import LinearRegression, Ridge, Lasso\n",
    "from sklearn.ensemble import RandomForestRegressor\n",
    "from sklearn.svm import SVR\n",
    "from sklearn.preprocessing import StandardScaler, LabelEncoder\n",
    "from sklearn.compose import ColumnTransformer\n",
    "from sklearn.pipeline import Pipeline\n",
    "from sklearn.metrics import mean_squared_error, r2_score, mean_absolute_error"
   ]
  },
  {
   "cell_type": "code",
   "execution_count": 29,
   "metadata": {},
   "outputs": [
    {
     "data": {
      "text/plain": [
       "ad_id                    int64\n",
       "campaign_id             object\n",
       "age                     object\n",
       "gender                  object\n",
       "interest1                int64\n",
       "interest2                int64\n",
       "interest3                int64\n",
       "impressions            float64\n",
       "clicks                   int64\n",
       "spent                  float64\n",
       "total_conversion       float64\n",
       "approved_conversion    float64\n",
       "CTR (%)                float64\n",
       "CPC ($)                float64\n",
       "dtype: object"
      ]
     },
     "execution_count": 29,
     "metadata": {},
     "output_type": "execute_result"
    }
   ],
   "source": [
    "df.dtypes"
   ]
  },
  {
   "cell_type": "markdown",
   "metadata": {},
   "source": [
    "Encoding Object data types: \n",
    "- Age(0: 30-34, 1: 35-39, 2: 40-44, 3: 45-49)\n",
    "- Gender (1: M, 0: F)"
   ]
  },
  {
   "cell_type": "code",
   "execution_count": 30,
   "metadata": {},
   "outputs": [],
   "source": [
    "encoder=LabelEncoder()\n",
    "\n",
    "encoder.fit(df[\"gender\"])\n",
    "df[\"gender\"]=encoder.transform(df[\"gender\"])\n",
    "\n",
    "encoder.fit(df[\"age\"])\n",
    "df[\"age\"]=encoder.transform(df[\"age\"])\n",
    "\n",
    "df['campaign_id'] = df['campaign_id'].astype(int)"
   ]
  },
  {
   "cell_type": "code",
   "execution_count": 31,
   "metadata": {},
   "outputs": [
    {
     "data": {
      "text/html": [
       "<div>\n",
       "<style scoped>\n",
       "    .dataframe tbody tr th:only-of-type {\n",
       "        vertical-align: middle;\n",
       "    }\n",
       "\n",
       "    .dataframe tbody tr th {\n",
       "        vertical-align: top;\n",
       "    }\n",
       "\n",
       "    .dataframe thead th {\n",
       "        text-align: right;\n",
       "    }\n",
       "</style>\n",
       "<table border=\"1\" class=\"dataframe\">\n",
       "  <thead>\n",
       "    <tr style=\"text-align: right;\">\n",
       "      <th></th>\n",
       "      <th>ad_id</th>\n",
       "      <th>campaign_id</th>\n",
       "      <th>age</th>\n",
       "      <th>gender</th>\n",
       "      <th>interest1</th>\n",
       "      <th>interest2</th>\n",
       "      <th>interest3</th>\n",
       "      <th>impressions</th>\n",
       "      <th>clicks</th>\n",
       "      <th>spent</th>\n",
       "      <th>total_conversion</th>\n",
       "      <th>approved_conversion</th>\n",
       "      <th>CTR (%)</th>\n",
       "      <th>CPC ($)</th>\n",
       "    </tr>\n",
       "  </thead>\n",
       "  <tbody>\n",
       "    <tr>\n",
       "      <th>0</th>\n",
       "      <td>708746</td>\n",
       "      <td>916</td>\n",
       "      <td>0</td>\n",
       "      <td>1</td>\n",
       "      <td>15</td>\n",
       "      <td>17</td>\n",
       "      <td>17</td>\n",
       "      <td>7350.0</td>\n",
       "      <td>1</td>\n",
       "      <td>1.43</td>\n",
       "      <td>2.0</td>\n",
       "      <td>1.0</td>\n",
       "      <td>0.013605</td>\n",
       "      <td>1.43</td>\n",
       "    </tr>\n",
       "    <tr>\n",
       "      <th>1</th>\n",
       "      <td>708749</td>\n",
       "      <td>916</td>\n",
       "      <td>0</td>\n",
       "      <td>1</td>\n",
       "      <td>16</td>\n",
       "      <td>19</td>\n",
       "      <td>21</td>\n",
       "      <td>17861.0</td>\n",
       "      <td>2</td>\n",
       "      <td>1.82</td>\n",
       "      <td>2.0</td>\n",
       "      <td>0.0</td>\n",
       "      <td>0.011198</td>\n",
       "      <td>0.91</td>\n",
       "    </tr>\n",
       "    <tr>\n",
       "      <th>2</th>\n",
       "      <td>708771</td>\n",
       "      <td>916</td>\n",
       "      <td>0</td>\n",
       "      <td>1</td>\n",
       "      <td>20</td>\n",
       "      <td>25</td>\n",
       "      <td>22</td>\n",
       "      <td>693.0</td>\n",
       "      <td>0</td>\n",
       "      <td>0.00</td>\n",
       "      <td>1.0</td>\n",
       "      <td>0.0</td>\n",
       "      <td>0.000000</td>\n",
       "      <td>0.00</td>\n",
       "    </tr>\n",
       "    <tr>\n",
       "      <th>3</th>\n",
       "      <td>708815</td>\n",
       "      <td>916</td>\n",
       "      <td>0</td>\n",
       "      <td>1</td>\n",
       "      <td>28</td>\n",
       "      <td>32</td>\n",
       "      <td>32</td>\n",
       "      <td>4259.0</td>\n",
       "      <td>1</td>\n",
       "      <td>1.25</td>\n",
       "      <td>1.0</td>\n",
       "      <td>0.0</td>\n",
       "      <td>0.023480</td>\n",
       "      <td>1.25</td>\n",
       "    </tr>\n",
       "    <tr>\n",
       "      <th>4</th>\n",
       "      <td>708818</td>\n",
       "      <td>916</td>\n",
       "      <td>0</td>\n",
       "      <td>1</td>\n",
       "      <td>28</td>\n",
       "      <td>33</td>\n",
       "      <td>32</td>\n",
       "      <td>4133.0</td>\n",
       "      <td>1</td>\n",
       "      <td>1.29</td>\n",
       "      <td>1.0</td>\n",
       "      <td>1.0</td>\n",
       "      <td>0.024195</td>\n",
       "      <td>1.29</td>\n",
       "    </tr>\n",
       "  </tbody>\n",
       "</table>\n",
       "</div>"
      ],
      "text/plain": [
       "    ad_id  campaign_id  age  gender  interest1  interest2  interest3  \\\n",
       "0  708746          916    0       1         15         17         17   \n",
       "1  708749          916    0       1         16         19         21   \n",
       "2  708771          916    0       1         20         25         22   \n",
       "3  708815          916    0       1         28         32         32   \n",
       "4  708818          916    0       1         28         33         32   \n",
       "\n",
       "   impressions  clicks  spent  total_conversion  approved_conversion  \\\n",
       "0       7350.0       1   1.43               2.0                  1.0   \n",
       "1      17861.0       2   1.82               2.0                  0.0   \n",
       "2        693.0       0   0.00               1.0                  0.0   \n",
       "3       4259.0       1   1.25               1.0                  0.0   \n",
       "4       4133.0       1   1.29               1.0                  1.0   \n",
       "\n",
       "    CTR (%)  CPC ($)  \n",
       "0  0.013605     1.43  \n",
       "1  0.011198     0.91  \n",
       "2  0.000000     0.00  \n",
       "3  0.023480     1.25  \n",
       "4  0.024195     1.29  "
      ]
     },
     "execution_count": 31,
     "metadata": {},
     "output_type": "execute_result"
    }
   ],
   "source": [
    "df.head()"
   ]
  },
  {
   "cell_type": "code",
   "execution_count": 32,
   "metadata": {},
   "outputs": [],
   "source": [
    "X = df.drop(['ad_id', 'CTR (%)', 'CPC ($)'], axis=1)\n",
    "y = df['CTR (%)']"
   ]
  },
  {
   "cell_type": "code",
   "execution_count": 33,
   "metadata": {},
   "outputs": [],
   "source": [
    "X_train, X_test, y_train, y_test = train_test_split(X, y, test_size=0.2, random_state=42)"
   ]
  },
  {
   "cell_type": "code",
   "execution_count": 34,
   "metadata": {},
   "outputs": [],
   "source": [
    "models = {\n",
    "    'Linear Regression': LinearRegression(),\n",
    "    'Ridge Regression': Ridge(alpha=1.0),\n",
    "    'Lasso Regression': Lasso(alpha=0.1),\n",
    "    'Random Forest': RandomForestRegressor(n_estimators=100, random_state=42),\n",
    "    'SVR': SVR(kernel='rbf', C=1.0, epsilon=0.1)\n",
    "}"
   ]
  },
  {
   "cell_type": "code",
   "execution_count": 35,
   "metadata": {},
   "outputs": [],
   "source": [
    "scaler = StandardScaler()\n",
    "X_train_scaled = scaler.fit_transform(X_train)\n",
    "X_test_scaled = scaler.transform(X_test)"
   ]
  },
  {
   "cell_type": "code",
   "execution_count": 36,
   "metadata": {},
   "outputs": [],
   "source": [
    "results = []\n",
    "\n",
    "for name, model in models.items():\n",
    "\n",
    "    model.fit(X_train_scaled, y_train)\n",
    "    \n",
    "    y_pred = model.predict(X_test_scaled)\n",
    "    \n",
    "    rmse = np.sqrt(mean_squared_error(y_test, y_pred))\n",
    "    mae = mean_absolute_error(y_test, y_pred)\n",
    "    r2 = r2_score(y_test, y_pred)\n",
    "    \n",
    "    results.append({\n",
    "        'Model': name,\n",
    "        'RMSE': rmse,\n",
    "        'MAE': mae,\n",
    "        'R²': r2\n",
    "    })"
   ]
  },
  {
   "cell_type": "code",
   "execution_count": 37,
   "metadata": {},
   "outputs": [
    {
     "name": "stdout",
     "output_type": "stream",
     "text": [
      "\n",
      "Model Evaluation Results:\n",
      "               Model      RMSE       MAE         R²\n",
      "3      Random Forest  0.002731  0.001641   0.946596\n",
      "0  Linear Regression  0.010826  0.007993   0.160731\n",
      "1   Ridge Regression  0.010868  0.008005   0.154265\n",
      "2   Lasso Regression  0.011890  0.009565  -0.012230\n",
      "4                SVR  0.040336  0.038568 -10.649717\n"
     ]
    }
   ],
   "source": [
    "results_df = pd.DataFrame(results).sort_values('RMSE')\n",
    "print(\"\\nModel Evaluation Results:\")\n",
    "print(results_df)"
   ]
  },
  {
   "cell_type": "code",
   "execution_count": 38,
   "metadata": {},
   "outputs": [],
   "source": [
    "best_model_name = results_df.iloc[0]['Model']\n",
    "best_model = models[best_model_name]"
   ]
  },
  {
   "cell_type": "code",
   "execution_count": 39,
   "metadata": {},
   "outputs": [
    {
     "name": "stdout",
     "output_type": "stream",
     "text": [
      "RandomForestRegressor(random_state=42)\n"
     ]
    }
   ],
   "source": [
    "best_model_name = results_df.iloc[0]['Model']\n",
    "best_model = models[best_model_name]\n",
    "print(best_model)"
   ]
  },
  {
   "cell_type": "code",
   "execution_count": 40,
   "metadata": {},
   "outputs": [
    {
     "data": {
      "text/html": [
       "<style>#sk-container-id-1 {color: black;}#sk-container-id-1 pre{padding: 0;}#sk-container-id-1 div.sk-toggleable {background-color: white;}#sk-container-id-1 label.sk-toggleable__label {cursor: pointer;display: block;width: 100%;margin-bottom: 0;padding: 0.3em;box-sizing: border-box;text-align: center;}#sk-container-id-1 label.sk-toggleable__label-arrow:before {content: \"▸\";float: left;margin-right: 0.25em;color: #696969;}#sk-container-id-1 label.sk-toggleable__label-arrow:hover:before {color: black;}#sk-container-id-1 div.sk-estimator:hover label.sk-toggleable__label-arrow:before {color: black;}#sk-container-id-1 div.sk-toggleable__content {max-height: 0;max-width: 0;overflow: hidden;text-align: left;background-color: #f0f8ff;}#sk-container-id-1 div.sk-toggleable__content pre {margin: 0.2em;color: black;border-radius: 0.25em;background-color: #f0f8ff;}#sk-container-id-1 input.sk-toggleable__control:checked~div.sk-toggleable__content {max-height: 200px;max-width: 100%;overflow: auto;}#sk-container-id-1 input.sk-toggleable__control:checked~label.sk-toggleable__label-arrow:before {content: \"▾\";}#sk-container-id-1 div.sk-estimator input.sk-toggleable__control:checked~label.sk-toggleable__label {background-color: #d4ebff;}#sk-container-id-1 div.sk-label input.sk-toggleable__control:checked~label.sk-toggleable__label {background-color: #d4ebff;}#sk-container-id-1 input.sk-hidden--visually {border: 0;clip: rect(1px 1px 1px 1px);clip: rect(1px, 1px, 1px, 1px);height: 1px;margin: -1px;overflow: hidden;padding: 0;position: absolute;width: 1px;}#sk-container-id-1 div.sk-estimator {font-family: monospace;background-color: #f0f8ff;border: 1px dotted black;border-radius: 0.25em;box-sizing: border-box;margin-bottom: 0.5em;}#sk-container-id-1 div.sk-estimator:hover {background-color: #d4ebff;}#sk-container-id-1 div.sk-parallel-item::after {content: \"\";width: 100%;border-bottom: 1px solid gray;flex-grow: 1;}#sk-container-id-1 div.sk-label:hover label.sk-toggleable__label {background-color: #d4ebff;}#sk-container-id-1 div.sk-serial::before {content: \"\";position: absolute;border-left: 1px solid gray;box-sizing: border-box;top: 0;bottom: 0;left: 50%;z-index: 0;}#sk-container-id-1 div.sk-serial {display: flex;flex-direction: column;align-items: center;background-color: white;padding-right: 0.2em;padding-left: 0.2em;position: relative;}#sk-container-id-1 div.sk-item {position: relative;z-index: 1;}#sk-container-id-1 div.sk-parallel {display: flex;align-items: stretch;justify-content: center;background-color: white;position: relative;}#sk-container-id-1 div.sk-item::before, #sk-container-id-1 div.sk-parallel-item::before {content: \"\";position: absolute;border-left: 1px solid gray;box-sizing: border-box;top: 0;bottom: 0;left: 50%;z-index: -1;}#sk-container-id-1 div.sk-parallel-item {display: flex;flex-direction: column;z-index: 1;position: relative;background-color: white;}#sk-container-id-1 div.sk-parallel-item:first-child::after {align-self: flex-end;width: 50%;}#sk-container-id-1 div.sk-parallel-item:last-child::after {align-self: flex-start;width: 50%;}#sk-container-id-1 div.sk-parallel-item:only-child::after {width: 0;}#sk-container-id-1 div.sk-dashed-wrapped {border: 1px dashed gray;margin: 0 0.4em 0.5em 0.4em;box-sizing: border-box;padding-bottom: 0.4em;background-color: white;}#sk-container-id-1 div.sk-label label {font-family: monospace;font-weight: bold;display: inline-block;line-height: 1.2em;}#sk-container-id-1 div.sk-label-container {text-align: center;}#sk-container-id-1 div.sk-container {/* jupyter's `normalize.less` sets `[hidden] { display: none; }` but bootstrap.min.css set `[hidden] { display: none !important; }` so we also need the `!important` here to be able to override the default hidden behavior on the sphinx rendered scikit-learn.org. See: https://github.com/scikit-learn/scikit-learn/issues/21755 */display: inline-block !important;position: relative;}#sk-container-id-1 div.sk-text-repr-fallback {display: none;}</style><div id=\"sk-container-id-1\" class=\"sk-top-container\"><div class=\"sk-text-repr-fallback\"><pre>RandomForestRegressor(random_state=42)</pre><b>In a Jupyter environment, please rerun this cell to show the HTML representation or trust the notebook. <br />On GitHub, the HTML representation is unable to render, please try loading this page with nbviewer.org.</b></div><div class=\"sk-container\" hidden><div class=\"sk-item\"><div class=\"sk-estimator sk-toggleable\"><input class=\"sk-toggleable__control sk-hidden--visually\" id=\"sk-estimator-id-1\" type=\"checkbox\" checked><label for=\"sk-estimator-id-1\" class=\"sk-toggleable__label sk-toggleable__label-arrow\">RandomForestRegressor</label><div class=\"sk-toggleable__content\"><pre>RandomForestRegressor(random_state=42)</pre></div></div></div></div></div>"
      ],
      "text/plain": [
       "RandomForestRegressor(random_state=42)"
      ]
     },
     "execution_count": 40,
     "metadata": {},
     "output_type": "execute_result"
    }
   ],
   "source": [
    "# Train the best model on the full dataset\n",
    "X_scaled = scaler.fit_transform(X)\n",
    "best_model.fit(X_scaled, y)"
   ]
  },
  {
   "cell_type": "code",
   "execution_count": 41,
   "metadata": {},
   "outputs": [
    {
     "name": "stdout",
     "output_type": "stream",
     "text": [
      "Model successfully exported to ad_conversion_best_model.joblib\n"
     ]
    }
   ],
   "source": [
    "import joblib\n",
    "\n",
    "# Export the best model to a file\n",
    "joblib.dump(best_model, 'ad_conversion_best_model2.joblib')\n",
    "print(\"Model successfully exported to ad_conversion_best_model.joblib\")"
   ]
  },
  {
   "cell_type": "code",
   "execution_count": 42,
   "metadata": {},
   "outputs": [],
   "source": [
    "loaded_model = joblib.load('ad_conversion_best_model2.joblib')"
   ]
  },
  {
   "cell_type": "code",
   "execution_count": 43,
   "metadata": {},
   "outputs": [
    {
     "name": "stdout",
     "output_type": "stream",
     "text": [
      "\n",
      "Feature Importance:\n",
      "                Feature  Importance\n",
      "7                clicks    0.312116\n",
      "8                 spent    0.256371\n",
      "0           campaign_id    0.184075\n",
      "6           impressions    0.152860\n",
      "3             interest1    0.041810\n",
      "1                   age    0.022237\n",
      "5             interest3    0.015102\n",
      "4             interest2    0.009258\n",
      "10  approved_conversion    0.002270\n",
      "2                gender    0.002106\n",
      "9      total_conversion    0.001795\n"
     ]
    }
   ],
   "source": [
    "feature_importance = pd.DataFrame({\n",
    "        'Feature': X.columns,\n",
    "        'Importance': best_model.feature_importances_}).sort_values('Importance', ascending=False)\n",
    "\n",
    "print(\"\\nFeature Importance:\")\n",
    "print(feature_importance)"
   ]
  },
  {
   "cell_type": "markdown",
   "metadata": {},
   "source": [
    "### 6. Testing"
   ]
  },
  {
   "cell_type": "code",
   "execution_count": 44,
   "metadata": {},
   "outputs": [
    {
     "name": "stdout",
     "output_type": "stream",
     "text": [
      "Predicted CTR (%) for sample data: 0.0831%\n"
     ]
    }
   ],
   "source": [
    "sample_data = pd.DataFrame({\n",
    "    'campaign_id': [916],\n",
    "    'age': [0],  \n",
    "    'gender': [1],\n",
    "    'interest1': [18],\n",
    "    'interest2': [20],\n",
    "    'interest3': [25],\n",
    "    'impressions': [500],\n",
    "    'clicks': [3],\n",
    "    'spent': [2.5],\n",
    "    'total_conversion': [2],\n",
    "    'approved_conversion': [1]\n",
    "})\n",
    "\n",
    "sample_data_scaled = scaler.transform(sample_data)\n",
    "predicted_ctr = best_model.predict(sample_data_scaled)[0]\n",
    "\n",
    "print(f\"Predicted CTR (%) for sample data: {predicted_ctr:.4f}%\")"
   ]
  }
 ],
 "metadata": {
  "kernelspec": {
   "display_name": "Python 3",
   "language": "python",
   "name": "python3"
  },
  "language_info": {
   "codemirror_mode": {
    "name": "ipython",
    "version": 3
   },
   "file_extension": ".py",
   "mimetype": "text/x-python",
   "name": "python",
   "nbconvert_exporter": "python",
   "pygments_lexer": "ipython3",
   "version": "3.12.0"
  }
 },
 "nbformat": 4,
 "nbformat_minor": 2
}
